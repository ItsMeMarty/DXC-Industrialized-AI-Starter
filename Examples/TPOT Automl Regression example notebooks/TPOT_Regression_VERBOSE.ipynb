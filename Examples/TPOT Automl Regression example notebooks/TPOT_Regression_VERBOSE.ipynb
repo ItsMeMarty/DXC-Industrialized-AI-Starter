{
  "nbformat": 4,
  "nbformat_minor": 0,
  "metadata": {
    "colab": {
      "name": "TPOT Regression-VERBOSE.ipynb",
      "provenance": [],
      "collapsed_sections": []
    },
    "kernelspec": {
      "display_name": "Python 3",
      "language": "python",
      "name": "python3"
    },
    "language_info": {
      "codemirror_mode": {
        "name": "ipython",
        "version": 3
      },
      "file_extension": ".py",
      "mimetype": "text/x-python",
      "name": "python",
      "nbconvert_exporter": "python",
      "pygments_lexer": "ipython3",
      "version": "3.7.6"
    },
    "widgets": {
      "application/vnd.jupyter.widget-state+json": {
        "7ab382e6aeb148c0ac3b9716189b4fe0": {
          "model_module": "@jupyter-widgets/controls",
          "model_name": "HBoxModel",
          "state": {
            "_view_name": "HBoxView",
            "_dom_classes": [],
            "_model_name": "HBoxModel",
            "_view_module": "@jupyter-widgets/controls",
            "_model_module_version": "1.5.0",
            "_view_count": null,
            "_view_module_version": "1.5.0",
            "box_style": "",
            "layout": "IPY_MODEL_12d1c340675d4829a4d94c696afabe72",
            "_model_module": "@jupyter-widgets/controls",
            "children": [
              "IPY_MODEL_1e66baee95764d4488836a849425a60c",
              "IPY_MODEL_1cc5c8b672da431e8a2bb1d63a4928ea"
            ]
          }
        },
        "12d1c340675d4829a4d94c696afabe72": {
          "model_module": "@jupyter-widgets/base",
          "model_name": "LayoutModel",
          "state": {
            "_view_name": "LayoutView",
            "grid_template_rows": null,
            "right": null,
            "justify_content": null,
            "_view_module": "@jupyter-widgets/base",
            "overflow": null,
            "_model_module_version": "1.2.0",
            "_view_count": null,
            "flex_flow": null,
            "width": null,
            "min_width": null,
            "border": null,
            "align_items": null,
            "bottom": null,
            "_model_module": "@jupyter-widgets/base",
            "top": null,
            "grid_column": null,
            "overflow_y": null,
            "overflow_x": null,
            "grid_auto_flow": null,
            "grid_area": null,
            "grid_template_columns": null,
            "flex": null,
            "_model_name": "LayoutModel",
            "justify_items": null,
            "grid_row": null,
            "max_height": null,
            "align_content": null,
            "visibility": null,
            "align_self": null,
            "height": null,
            "min_height": null,
            "padding": null,
            "grid_auto_rows": null,
            "grid_gap": null,
            "max_width": null,
            "order": null,
            "_view_module_version": "1.2.0",
            "grid_template_areas": null,
            "object_position": null,
            "object_fit": null,
            "grid_auto_columns": null,
            "margin": null,
            "display": null,
            "left": null
          }
        },
        "1e66baee95764d4488836a849425a60c": {
          "model_module": "@jupyter-widgets/controls",
          "model_name": "FloatProgressModel",
          "state": {
            "_view_name": "ProgressView",
            "style": "IPY_MODEL_b3f9542969934004bf7e2ceca76ac90f",
            "_dom_classes": [],
            "description": "Optimization Progress:  95%",
            "_model_name": "FloatProgressModel",
            "bar_style": "danger",
            "max": 100,
            "_view_module": "@jupyter-widgets/controls",
            "_model_module_version": "1.5.0",
            "value": 100,
            "_view_count": null,
            "_view_module_version": "1.5.0",
            "orientation": "horizontal",
            "min": 0,
            "description_tooltip": null,
            "_model_module": "@jupyter-widgets/controls",
            "layout": "IPY_MODEL_aab862a1df8c499abc62fee7435fff07"
          }
        },
        "1cc5c8b672da431e8a2bb1d63a4928ea": {
          "model_module": "@jupyter-widgets/controls",
          "model_name": "HTMLModel",
          "state": {
            "_view_name": "HTMLView",
            "style": "IPY_MODEL_98516f9b7d804086a0cf3ca4c82890f8",
            "_dom_classes": [],
            "description": "",
            "_model_name": "HTMLModel",
            "placeholder": "​",
            "_view_module": "@jupyter-widgets/controls",
            "_model_module_version": "1.5.0",
            "value": " 474/500 [04:54&lt;00:19,  1.32pipeline/s]",
            "_view_count": null,
            "_view_module_version": "1.5.0",
            "description_tooltip": null,
            "_model_module": "@jupyter-widgets/controls",
            "layout": "IPY_MODEL_d409e549d39c44d691c227800c3f1e3b"
          }
        },
        "b3f9542969934004bf7e2ceca76ac90f": {
          "model_module": "@jupyter-widgets/controls",
          "model_name": "ProgressStyleModel",
          "state": {
            "_view_name": "StyleView",
            "_model_name": "ProgressStyleModel",
            "description_width": "initial",
            "_view_module": "@jupyter-widgets/base",
            "_model_module_version": "1.5.0",
            "_view_count": null,
            "_view_module_version": "1.2.0",
            "bar_color": null,
            "_model_module": "@jupyter-widgets/controls"
          }
        },
        "aab862a1df8c499abc62fee7435fff07": {
          "model_module": "@jupyter-widgets/base",
          "model_name": "LayoutModel",
          "state": {
            "_view_name": "LayoutView",
            "grid_template_rows": null,
            "right": null,
            "justify_content": null,
            "_view_module": "@jupyter-widgets/base",
            "overflow": null,
            "_model_module_version": "1.2.0",
            "_view_count": null,
            "flex_flow": null,
            "width": null,
            "min_width": null,
            "border": null,
            "align_items": null,
            "bottom": null,
            "_model_module": "@jupyter-widgets/base",
            "top": null,
            "grid_column": null,
            "overflow_y": null,
            "overflow_x": null,
            "grid_auto_flow": null,
            "grid_area": null,
            "grid_template_columns": null,
            "flex": null,
            "_model_name": "LayoutModel",
            "justify_items": null,
            "grid_row": null,
            "max_height": null,
            "align_content": null,
            "visibility": null,
            "align_self": null,
            "height": null,
            "min_height": null,
            "padding": null,
            "grid_auto_rows": null,
            "grid_gap": null,
            "max_width": null,
            "order": null,
            "_view_module_version": "1.2.0",
            "grid_template_areas": null,
            "object_position": null,
            "object_fit": null,
            "grid_auto_columns": null,
            "margin": null,
            "display": null,
            "left": null
          }
        },
        "98516f9b7d804086a0cf3ca4c82890f8": {
          "model_module": "@jupyter-widgets/controls",
          "model_name": "DescriptionStyleModel",
          "state": {
            "_view_name": "StyleView",
            "_model_name": "DescriptionStyleModel",
            "description_width": "",
            "_view_module": "@jupyter-widgets/base",
            "_model_module_version": "1.5.0",
            "_view_count": null,
            "_view_module_version": "1.2.0",
            "_model_module": "@jupyter-widgets/controls"
          }
        },
        "d409e549d39c44d691c227800c3f1e3b": {
          "model_module": "@jupyter-widgets/base",
          "model_name": "LayoutModel",
          "state": {
            "_view_name": "LayoutView",
            "grid_template_rows": null,
            "right": null,
            "justify_content": null,
            "_view_module": "@jupyter-widgets/base",
            "overflow": null,
            "_model_module_version": "1.2.0",
            "_view_count": null,
            "flex_flow": null,
            "width": null,
            "min_width": null,
            "border": null,
            "align_items": null,
            "bottom": null,
            "_model_module": "@jupyter-widgets/base",
            "top": null,
            "grid_column": null,
            "overflow_y": null,
            "overflow_x": null,
            "grid_auto_flow": null,
            "grid_area": null,
            "grid_template_columns": null,
            "flex": null,
            "_model_name": "LayoutModel",
            "justify_items": null,
            "grid_row": null,
            "max_height": null,
            "align_content": null,
            "visibility": null,
            "align_self": null,
            "height": null,
            "min_height": null,
            "padding": null,
            "grid_auto_rows": null,
            "grid_gap": null,
            "max_width": null,
            "order": null,
            "_view_module_version": "1.2.0",
            "grid_template_areas": null,
            "object_position": null,
            "object_fit": null,
            "grid_auto_columns": null,
            "margin": null,
            "display": null,
            "left": null
          }
        }
      }
    }
  },
  "cells": [
    {
      "cell_type": "markdown",
      "metadata": {
        "id": "V4A4ZbKtsfaj"
      },
      "source": [
        "This notebook shows example of using \"VERBOSE\" parameter in TPOT regression model."
      ]
    },
    {
      "cell_type": "markdown",
      "metadata": {
        "id": "B3XNqBz5s57T"
      },
      "source": [
        "## <H2> Set up the development environment</H2>"
      ]
    },
    {
      "cell_type": "code",
      "metadata": {
        "id": "HGr3U_fhNIOk"
      },
      "source": [
        "##After executing this code, automatically your session will be restarted witha message saying that \"session crashed for unknown reason\".\n",
        "%%capture\n",
        "! pip install DXC-Industrialized-AI-Starter\n",
        "import os\n",
        "os.kill(os.getpid(), 9)"
      ],
      "execution_count": null,
      "outputs": []
    },
    {
      "cell_type": "markdown",
      "metadata": {
        "id": "jRaLDS7aKbz4"
      },
      "source": [
        "From DXC-Industrialized-AI-Starter library import dxc-ai package to use it for further work.\n"
      ]
    },
    {
      "cell_type": "code",
      "metadata": {
        "id": "KpvJo8WDKbz4"
      },
      "source": [
        "%%capture\n",
        "from dxc import ai"
      ],
      "execution_count": null,
      "outputs": []
    },
    {
      "cell_type": "markdown",
      "metadata": {
        "id": "I0vCfP-d1vQn"
      },
      "source": [
        "## <H2> Access the raw data </H2>\n",
        "\n",
        "\n"
      ]
    },
    {
      "cell_type": "code",
      "metadata": {
        "id": "7k2-8NoBH8ry",
        "scrolled": true,
        "colab": {
          "base_uri": "https://localhost:8080/",
          "height": 360
        },
        "outputId": "124f94a4-4e9c-4c50-d560-e4a82da13d6f"
      },
      "source": [
        "# TODO: Access raw data.\n",
        "##reads json from a url and flattens it into a dataframe\n",
        "data0 = ai.read_data_frame_from_remote_json(\"https://data.cincinnati-oh.gov/resource/ucjy-ykv4.json\")\n",
        "data0.head()"
      ],
      "execution_count": null,
      "outputs": [
        {
          "output_type": "execute_result",
          "data": {
            "text/html": [
              "<div>\n",
              "<style scoped>\n",
              "    .dataframe tbody tr th:only-of-type {\n",
              "        vertical-align: middle;\n",
              "    }\n",
              "\n",
              "    .dataframe tbody tr th {\n",
              "        vertical-align: top;\n",
              "    }\n",
              "\n",
              "    .dataframe thead th {\n",
              "        text-align: right;\n",
              "    }\n",
              "</style>\n",
              "<table border=\"1\" class=\"dataframe\">\n",
              "  <thead>\n",
              "    <tr style=\"text-align: right;\">\n",
              "      <th></th>\n",
              "      <th>request_id</th>\n",
              "      <th>request_status</th>\n",
              "      <th>funding_source</th>\n",
              "      <th>request_type</th>\n",
              "      <th>department_name</th>\n",
              "      <th>fiscal_year</th>\n",
              "      <th>replacement_body_style</th>\n",
              "      <th>equipment_class</th>\n",
              "      <th>equip_id_to_replace</th>\n",
              "      <th>replacement_make</th>\n",
              "      <th>replacement_model</th>\n",
              "      <th>date_fleet_doc_entered</th>\n",
              "      <th>fleet_document_type</th>\n",
              "      <th>purchasing_bid_date</th>\n",
              "      <th>est_unit_cost</th>\n",
              "      <th>date_bid_closed</th>\n",
              "      <th>date_po_awarded</th>\n",
              "      <th>actual_unit_cost</th>\n",
              "      <th>procurement_plan</th>\n",
              "    </tr>\n",
              "  </thead>\n",
              "  <tbody>\n",
              "    <tr>\n",
              "      <th>0</th>\n",
              "      <td>463</td>\n",
              "      <td>Completed</td>\n",
              "      <td>CAP</td>\n",
              "      <td>Fleet Procurement Plan</td>\n",
              "      <td>Fire</td>\n",
              "      <td>2019</td>\n",
              "      <td>SEDAN</td>\n",
              "      <td>PC-GS</td>\n",
              "      <td>06193</td>\n",
              "      <td>CHEVROLET</td>\n",
              "      <td>MALIBU</td>\n",
              "      <td>2019-04-09T00:00:00.000</td>\n",
              "      <td>RQS</td>\n",
              "      <td>2019-07-05T00:00:00.000</td>\n",
              "      <td>19246</td>\n",
              "      <td>2019-07-05T00:00:00.000</td>\n",
              "      <td>2019-07-10T00:00:00.000</td>\n",
              "      <td>17507.14</td>\n",
              "      <td>Passenger Cars</td>\n",
              "    </tr>\n",
              "    <tr>\n",
              "      <th>1</th>\n",
              "      <td>674</td>\n",
              "      <td>Completed</td>\n",
              "      <td>Auction Funds</td>\n",
              "      <td>Supplemental Request</td>\n",
              "      <td>DPS - Fleet Services Division</td>\n",
              "      <td>2019</td>\n",
              "      <td>HYDRANT PUMP</td>\n",
              "      <td>NaN</td>\n",
              "      <td>NaN</td>\n",
              "      <td>MILWAUKEE</td>\n",
              "      <td>M18 LI-ION</td>\n",
              "      <td>2019-11-05T00:00:00.000</td>\n",
              "      <td>DO</td>\n",
              "      <td>NaN</td>\n",
              "      <td>400</td>\n",
              "      <td>NaN</td>\n",
              "      <td>NaN</td>\n",
              "      <td>355.55</td>\n",
              "      <td>Specialized Small</td>\n",
              "    </tr>\n",
              "    <tr>\n",
              "      <th>2</th>\n",
              "      <td>688</td>\n",
              "      <td>Denied</td>\n",
              "      <td>Operating Funds</td>\n",
              "      <td>Supplemental Request</td>\n",
              "      <td>DPS - Neighborhood Operations Division</td>\n",
              "      <td>2020</td>\n",
              "      <td>NaN</td>\n",
              "      <td>GROUNDS</td>\n",
              "      <td>NEW</td>\n",
              "      <td>NaN</td>\n",
              "      <td>NaN</td>\n",
              "      <td>NaN</td>\n",
              "      <td>DO</td>\n",
              "      <td>NaN</td>\n",
              "      <td>4631.8</td>\n",
              "      <td>NaN</td>\n",
              "      <td>NaN</td>\n",
              "      <td>NaN</td>\n",
              "      <td>NaN</td>\n",
              "    </tr>\n",
              "    <tr>\n",
              "      <th>3</th>\n",
              "      <td>818</td>\n",
              "      <td>Completed</td>\n",
              "      <td>Other</td>\n",
              "      <td>Supplemental Request</td>\n",
              "      <td>Police</td>\n",
              "      <td>2017</td>\n",
              "      <td>SUV</td>\n",
              "      <td>PC-GS</td>\n",
              "      <td>TBD</td>\n",
              "      <td>Chevrolet</td>\n",
              "      <td>Traverse</td>\n",
              "      <td>2020-06-01T00:00:00.000</td>\n",
              "      <td>DO</td>\n",
              "      <td>NaN</td>\n",
              "      <td>25799.5</td>\n",
              "      <td>NaN</td>\n",
              "      <td>NaN</td>\n",
              "      <td>25799.5</td>\n",
              "      <td>Passenger Cars</td>\n",
              "    </tr>\n",
              "    <tr>\n",
              "      <th>4</th>\n",
              "      <td>248</td>\n",
              "      <td>Completed</td>\n",
              "      <td>CIP</td>\n",
              "      <td>Fleet Procurement Plan</td>\n",
              "      <td>Recreation</td>\n",
              "      <td>2017</td>\n",
              "      <td>HEDGE TRIMMER</td>\n",
              "      <td>SPECIALIZED SMALL</td>\n",
              "      <td>46500</td>\n",
              "      <td>STIHL</td>\n",
              "      <td>HS82T(24\")</td>\n",
              "      <td>2017-08-01T00:00:00.000</td>\n",
              "      <td>DO</td>\n",
              "      <td>NaN</td>\n",
              "      <td>250</td>\n",
              "      <td>NaN</td>\n",
              "      <td>2017-08-07T00:00:00.000</td>\n",
              "      <td>384.96</td>\n",
              "      <td>Horticulture</td>\n",
              "    </tr>\n",
              "  </tbody>\n",
              "</table>\n",
              "</div>"
            ],
            "text/plain": [
              "  request_id request_status  ... actual_unit_cost   procurement_plan\n",
              "0        463      Completed  ...         17507.14     Passenger Cars\n",
              "1        674      Completed  ...           355.55  Specialized Small\n",
              "2        688         Denied  ...              NaN                NaN\n",
              "3        818      Completed  ...          25799.5     Passenger Cars\n",
              "4        248      Completed  ...           384.96       Horticulture\n",
              "\n",
              "[5 rows x 19 columns]"
            ]
          },
          "metadata": {
            "tags": []
          },
          "execution_count": 2
        }
      ]
    },
    {
      "cell_type": "markdown",
      "metadata": {
        "id": "9hSbyYGP199H"
      },
      "source": [
        "### <H2> Define data fields </H2>\n",
        "Mention the <code>text_fileds</code>,<code>date_fields</code>,<code>numeric_fields</code> and <code>categorical_fields</code> as per you data set. Below are example only."
      ]
    },
    {
      "cell_type": "code",
      "metadata": {
        "id": "hIRPuq10Kb0V"
      },
      "source": [
        "# TODO: define the data fields\n",
        "text_fields = []\n",
        "date_fields = ['date_fleet_doc_entered', 'purchasing_bid_date', 'date_bid_closed', 'date_po_awarded']\n",
        "numeric_fields = ['est_unit_cost', 'actual_unit_cost']\n",
        "categorical_fields = ['request_id','request_status', 'funding_source', 'request_type', 'department_name', \n",
        "                      'fiscal_year', 'replacement_body_style','equipment_class','equip_id_to_replace',\n",
        "                      'replacement_make', 'replacement_model','fleet_document_type', 'procurement_plan']"
      ],
      "execution_count": null,
      "outputs": []
    },
    {
      "cell_type": "markdown",
      "metadata": {
        "id": "cdV-mB-z2F4s"
      },
      "source": [
        "### <H2> Clean the raw data </H2>\n",
        "Execute <code>raw_data</code> so that it accesses your raw data and returns it as a Pandas dataframe. Any preprocessing of the raw data should be done here. "
      ]
    },
    {
      "cell_type": "code",
      "metadata": {
        "id": "mEFE68czKb0X",
        "colab": {
          "base_uri": "https://localhost:8080/",
          "height": 360
        },
        "outputId": "40091365-0cc9-48e1-951e-f3d3de713dc6"
      },
      "source": [
        "#clean the data\n",
        "impute = True\n",
        "data1 = ai.clean_dataframe(data0, impute, text_fields, date_fields, numeric_fields, categorical_fields)\n",
        "\n",
        "#display excerpts of the raw data\n",
        "data1.head()"
      ],
      "execution_count": null,
      "outputs": [
        {
          "output_type": "execute_result",
          "data": {
            "text/html": [
              "<div>\n",
              "<style scoped>\n",
              "    .dataframe tbody tr th:only-of-type {\n",
              "        vertical-align: middle;\n",
              "    }\n",
              "\n",
              "    .dataframe tbody tr th {\n",
              "        vertical-align: top;\n",
              "    }\n",
              "\n",
              "    .dataframe thead th {\n",
              "        text-align: right;\n",
              "    }\n",
              "</style>\n",
              "<table border=\"1\" class=\"dataframe\">\n",
              "  <thead>\n",
              "    <tr style=\"text-align: right;\">\n",
              "      <th></th>\n",
              "      <th>request_id</th>\n",
              "      <th>request_status</th>\n",
              "      <th>funding_source</th>\n",
              "      <th>request_type</th>\n",
              "      <th>department_name</th>\n",
              "      <th>fiscal_year</th>\n",
              "      <th>replacement_body_style</th>\n",
              "      <th>equipment_class</th>\n",
              "      <th>equip_id_to_replace</th>\n",
              "      <th>replacement_make</th>\n",
              "      <th>replacement_model</th>\n",
              "      <th>date_fleet_doc_entered</th>\n",
              "      <th>fleet_document_type</th>\n",
              "      <th>purchasing_bid_date</th>\n",
              "      <th>est_unit_cost</th>\n",
              "      <th>date_bid_closed</th>\n",
              "      <th>date_po_awarded</th>\n",
              "      <th>actual_unit_cost</th>\n",
              "      <th>procurement_plan</th>\n",
              "    </tr>\n",
              "  </thead>\n",
              "  <tbody>\n",
              "    <tr>\n",
              "      <th>0</th>\n",
              "      <td>463</td>\n",
              "      <td>Completed</td>\n",
              "      <td>CAP</td>\n",
              "      <td>Fleet Procurement Plan</td>\n",
              "      <td>Fire</td>\n",
              "      <td>2019</td>\n",
              "      <td>SEDAN</td>\n",
              "      <td>PC-GS</td>\n",
              "      <td>06193</td>\n",
              "      <td>CHEVROLET</td>\n",
              "      <td>MALIBU</td>\n",
              "      <td>2019-04-09T00:00:00+00:00</td>\n",
              "      <td>RQS</td>\n",
              "      <td>2019-07-05T00:00:00+00:00</td>\n",
              "      <td>19246.0</td>\n",
              "      <td>2019-07-05T00:00:00+00:00</td>\n",
              "      <td>2019-07-10T00:00:00+00:00</td>\n",
              "      <td>17507.14</td>\n",
              "      <td>Passenger Cars</td>\n",
              "    </tr>\n",
              "    <tr>\n",
              "      <th>1</th>\n",
              "      <td>674</td>\n",
              "      <td>Completed</td>\n",
              "      <td>Auction Funds</td>\n",
              "      <td>Supplemental Request</td>\n",
              "      <td>DPS - Fleet Services Division</td>\n",
              "      <td>2019</td>\n",
              "      <td>HYDRANT PUMP</td>\n",
              "      <td>PC-P</td>\n",
              "      <td>N/A</td>\n",
              "      <td>MILWAUKEE</td>\n",
              "      <td>M18 LI-ION</td>\n",
              "      <td>2019-11-05T00:00:00+00:00</td>\n",
              "      <td>DO</td>\n",
              "      <td>2019-08-13T00:00:00+00:00</td>\n",
              "      <td>400.0</td>\n",
              "      <td>2019-08-16T00:00:00+00:00</td>\n",
              "      <td>2019-10-31T00:00:00+00:00</td>\n",
              "      <td>355.55</td>\n",
              "      <td>Specialized Small</td>\n",
              "    </tr>\n",
              "    <tr>\n",
              "      <th>2</th>\n",
              "      <td>688</td>\n",
              "      <td>Denied</td>\n",
              "      <td>Operating Funds</td>\n",
              "      <td>Supplemental Request</td>\n",
              "      <td>DPS - Neighborhood Operations Division</td>\n",
              "      <td>2020</td>\n",
              "      <td>Cargo Van</td>\n",
              "      <td>GROUNDS</td>\n",
              "      <td>NEW</td>\n",
              "      <td>TORO</td>\n",
              "      <td>LEAF</td>\n",
              "      <td>2019-11-05T00:00:00+00:00</td>\n",
              "      <td>DO</td>\n",
              "      <td>2019-02-27T00:00:00+00:00</td>\n",
              "      <td>4631.8</td>\n",
              "      <td>2019-03-20T00:00:00+00:00</td>\n",
              "      <td>2018-06-21T00:00:00+00:00</td>\n",
              "      <td>4785.25</td>\n",
              "      <td>Passenger Cars</td>\n",
              "    </tr>\n",
              "    <tr>\n",
              "      <th>3</th>\n",
              "      <td>818</td>\n",
              "      <td>Completed</td>\n",
              "      <td>Other</td>\n",
              "      <td>Supplemental Request</td>\n",
              "      <td>Police</td>\n",
              "      <td>2017</td>\n",
              "      <td>SUV</td>\n",
              "      <td>PC-GS</td>\n",
              "      <td>TBD</td>\n",
              "      <td>Chevrolet</td>\n",
              "      <td>Traverse</td>\n",
              "      <td>2020-06-01T00:00:00+00:00</td>\n",
              "      <td>DO</td>\n",
              "      <td>2020-04-29T00:00:00+00:00</td>\n",
              "      <td>25799.5</td>\n",
              "      <td>2020-06-19T00:00:00+00:00</td>\n",
              "      <td>2020-06-12T00:00:00+00:00</td>\n",
              "      <td>25799.50</td>\n",
              "      <td>Passenger Cars</td>\n",
              "    </tr>\n",
              "    <tr>\n",
              "      <th>4</th>\n",
              "      <td>248</td>\n",
              "      <td>Completed</td>\n",
              "      <td>CIP</td>\n",
              "      <td>Fleet Procurement Plan</td>\n",
              "      <td>Recreation</td>\n",
              "      <td>2017</td>\n",
              "      <td>HEDGE TRIMMER</td>\n",
              "      <td>SPECIALIZED SMALL</td>\n",
              "      <td>46500</td>\n",
              "      <td>STIHL</td>\n",
              "      <td>HS82T(24\")</td>\n",
              "      <td>2017-08-01T00:00:00+00:00</td>\n",
              "      <td>DO</td>\n",
              "      <td>2018-03-01T00:00:00+00:00</td>\n",
              "      <td>250.0</td>\n",
              "      <td>2018-03-16T00:00:00+00:00</td>\n",
              "      <td>2017-08-07T00:00:00+00:00</td>\n",
              "      <td>384.96</td>\n",
              "      <td>Horticulture</td>\n",
              "    </tr>\n",
              "  </tbody>\n",
              "</table>\n",
              "</div>"
            ],
            "text/plain": [
              "  request_id request_status  ... actual_unit_cost   procurement_plan\n",
              "0        463      Completed  ...         17507.14     Passenger Cars\n",
              "1        674      Completed  ...           355.55  Specialized Small\n",
              "2        688         Denied  ...          4785.25     Passenger Cars\n",
              "3        818      Completed  ...         25799.50     Passenger Cars\n",
              "4        248      Completed  ...           384.96       Horticulture\n",
              "\n",
              "[5 rows x 19 columns]"
            ]
          },
          "metadata": {
            "tags": []
          },
          "execution_count": 4
        }
      ]
    },
    {
      "cell_type": "markdown",
      "metadata": {
        "id": "tEtGjglz5B21"
      },
      "source": [
        "## <H1>Build a data pipeline</H1>"
      ]
    },
    {
      "cell_type": "code",
      "metadata": {
        "id": "VUs-B1kMQx5q"
      },
      "source": [
        "# TODO: specify the details of the data layer\n",
        "data_layer = {\n",
        "    \"connection_string\": \"<your connection_string>\",\n",
        "    \"collection_name\": \"<your collection_name>\",\n",
        "    \"database_name\": \"<your database_name>\",\n",
        "    \"data_source\":\"<Source of your datset>\",\n",
        "    \"cleaner\":\"<whether applied cleaner yes/no >\"\n",
        "}"
      ],
      "execution_count": null,
      "outputs": []
    },
    {
      "cell_type": "markdown",
      "metadata": {
        "id": "VG_V01KuiOyV"
      },
      "source": [
        "Inject data into MongoDB"
      ]
    },
    {
      "cell_type": "code",
      "metadata": {
        "id": "ZqVWcr41hBik"
      },
      "source": [
        "data2 = ai.write_raw_data(data_layer, data1, date_fields)"
      ],
      "execution_count": null,
      "outputs": []
    },
    {
      "cell_type": "code",
      "metadata": {
        "id": "wYyNGWHNvcyw",
        "colab": {
          "base_uri": "https://localhost:8080/",
          "height": 326
        },
        "outputId": "f867e8bf-05e1-42dd-f276-176d75b74722"
      },
      "source": [
        "# TODO: define the code needed to refine the raw data\n",
        "def data_pipeline():\n",
        "\n",
        "  pipe = [\n",
        "          {\n",
        "              '$group':{\n",
        "                  '_id': {\n",
        "                      \"funding_source\":\"$funding_source\",\n",
        "                      \"request_type\":\"$request_type\",\n",
        "                      \"department_name\":\"$department_name\",\n",
        "                      \"replacement_body_style\":\"$replacement_body_style\",\n",
        "                      \"equipment_class\":\"$equipment_class\",\n",
        "                      \"replacement_make\":\"$replacement_make\",\n",
        "                      \"replacement_model\":\"$replacement_model\",\n",
        "                      \"procurement_plan\":\"$procurement_plan\"\n",
        "                      },\n",
        "                  \"avg_est_unit_cost\":{\"$avg\":\"$est_unit_cost\"},\n",
        "                  \"avg_est_unit_cost_error\":{\"$avg\":{ \"$subtract\": [ \"$est_unit_cost\", \"$actual_unit_cost\" ] }}\n",
        "              }\n",
        "          }\n",
        "  ]\n",
        "\n",
        "  return pipe\n",
        "\n",
        "df = ai.access_data_from_pipeline(data2, data_pipeline())\n",
        "df.head()"
      ],
      "execution_count": null,
      "outputs": [
        {
          "output_type": "stream",
          "text": [
            "pandas.io.json.json_normalize is deprecated, use pandas.json_normalize instead\n"
          ],
          "name": "stderr"
        },
        {
          "output_type": "execute_result",
          "data": {
            "text/html": [
              "<div>\n",
              "<style scoped>\n",
              "    .dataframe tbody tr th:only-of-type {\n",
              "        vertical-align: middle;\n",
              "    }\n",
              "\n",
              "    .dataframe tbody tr th {\n",
              "        vertical-align: top;\n",
              "    }\n",
              "\n",
              "    .dataframe thead th {\n",
              "        text-align: right;\n",
              "    }\n",
              "</style>\n",
              "<table border=\"1\" class=\"dataframe\">\n",
              "  <thead>\n",
              "    <tr style=\"text-align: right;\">\n",
              "      <th></th>\n",
              "      <th>avg_est_unit_cost</th>\n",
              "      <th>avg_est_unit_cost_error</th>\n",
              "      <th>_id.funding_source</th>\n",
              "      <th>_id.request_type</th>\n",
              "      <th>_id.department_name</th>\n",
              "      <th>_id.replacement_body_style</th>\n",
              "      <th>_id.equipment_class</th>\n",
              "      <th>_id.replacement_make</th>\n",
              "      <th>_id.replacement_model</th>\n",
              "      <th>_id.procurement_plan</th>\n",
              "    </tr>\n",
              "  </thead>\n",
              "  <tbody>\n",
              "    <tr>\n",
              "      <th>0</th>\n",
              "      <td>37200.0</td>\n",
              "      <td>2017.096154</td>\n",
              "      <td>CAP</td>\n",
              "      <td>Fleet Procurement Plan</td>\n",
              "      <td>Police</td>\n",
              "      <td>SUV</td>\n",
              "      <td>PC-P</td>\n",
              "      <td>FORD</td>\n",
              "      <td>INTERCEPTOR</td>\n",
              "      <td>Emergency Response Vehicle</td>\n",
              "    </tr>\n",
              "    <tr>\n",
              "      <th>1</th>\n",
              "      <td>379.0</td>\n",
              "      <td>-31.290000</td>\n",
              "      <td>Auction Funds</td>\n",
              "      <td>Supplemental Request</td>\n",
              "      <td>Fire</td>\n",
              "      <td>HYDRANT PUMP</td>\n",
              "      <td>SPECIALIZED SMALL</td>\n",
              "      <td>milwaukee</td>\n",
              "      <td>m18</td>\n",
              "      <td>Specialized Small</td>\n",
              "    </tr>\n",
              "    <tr>\n",
              "      <th>2</th>\n",
              "      <td>29508.0</td>\n",
              "      <td>1619.300000</td>\n",
              "      <td>CIP</td>\n",
              "      <td>Fleet Procurement Plan</td>\n",
              "      <td>Risk Mgmt</td>\n",
              "      <td>SEDAN</td>\n",
              "      <td>PC-GS</td>\n",
              "      <td>NISSAN</td>\n",
              "      <td>LEAF</td>\n",
              "      <td>Passenger Cars</td>\n",
              "    </tr>\n",
              "    <tr>\n",
              "      <th>3</th>\n",
              "      <td>9000.0</td>\n",
              "      <td>2380.610000</td>\n",
              "      <td>CIP</td>\n",
              "      <td>Fleet Procurement Plan</td>\n",
              "      <td>Recreation</td>\n",
              "      <td>GATOR</td>\n",
              "      <td>GROUNDS</td>\n",
              "      <td>JOHN DEERE</td>\n",
              "      <td>GATOR 4X2</td>\n",
              "      <td>Horticulture</td>\n",
              "    </tr>\n",
              "    <tr>\n",
              "      <th>4</th>\n",
              "      <td>28000.0</td>\n",
              "      <td>-536.400000</td>\n",
              "      <td>CAP</td>\n",
              "      <td>Fleet Procurement Plan</td>\n",
              "      <td>Fire</td>\n",
              "      <td>SEDAN</td>\n",
              "      <td>ARV - Administrative Response Vehicles</td>\n",
              "      <td>DODGE</td>\n",
              "      <td>CHARGER</td>\n",
              "      <td>Emergency Response Vehicle</td>\n",
              "    </tr>\n",
              "  </tbody>\n",
              "</table>\n",
              "</div>"
            ],
            "text/plain": [
              "   avg_est_unit_cost  ...        _id.procurement_plan\n",
              "0            37200.0  ...  Emergency Response Vehicle\n",
              "1              379.0  ...           Specialized Small\n",
              "2            29508.0  ...              Passenger Cars\n",
              "3             9000.0  ...                Horticulture\n",
              "4            28000.0  ...  Emergency Response Vehicle\n",
              "\n",
              "[5 rows x 10 columns]"
            ]
          },
          "metadata": {
            "tags": []
          },
          "execution_count": 7
        }
      ]
    },
    {
      "cell_type": "markdown",
      "metadata": {
        "id": "rqKJ70WX6YNz"
      },
      "source": [
        "## <H1>Run an experiment</H1>"
      ]
    },
    {
      "cell_type": "markdown",
      "metadata": {
        "id": "ckQDjj1b5YKX"
      },
      "source": [
        "**TPOT Classification/Regression:**\n",
        "Machine learning is  typically a very time-consuming and knowledge-intensive part of a data science problem. Auto-ml is not designed to replace the data scientist, but rather free her to work on more important aspects of the complete problem, such as acquiring data and interpreting the model results.[TPOT](https://epistasislab.github.io/tpot) is a Python library developed for automatic machine learning feature preprocessing, model selection, and hyperparameter tuning. AI Starter has integrated TPOT as one of its Auto Ml libraries. \n",
        "\n",
        "Please refer the below parameter description for best utilization of Tpot classification and regression methods with AI Starter.<br> \n",
        "\n",
        "**<code>verbose: True/False </code>** True - Prints more information and provide a progress bar; False - Prints nothing. <br>\n",
        "\n"
      ]
    },
    {
      "cell_type": "markdown",
      "metadata": {
        "id": "xp9lJbRIgRDQ"
      },
      "source": [
        "**Parameter Verbose = False**"
      ]
    },
    {
      "cell_type": "code",
      "metadata": {
        "id": "XJfEZDRaHGY9",
        "colab": {
          "base_uri": "https://localhost:8080/"
        },
        "outputId": "258d7bd1-1e07-4f36-f0b4-5049dd6e02a3"
      },
      "source": [
        "# TODO: design and run an experiment\n",
        "experiment_design = {\n",
        "    #model options include ['tpot_regression()', 'tpot_classification()','timeseries()']\n",
        "    \"model\": ai.tpot_regression(),\n",
        "    \"labels\": df.avg_est_unit_cost_error,\n",
        "    \"data\": df,\n",
        "    #Tell the model which column is 'output'\n",
        "    #Also note columns that aren't purely numerical\n",
        "    #Examples include ['nlp', 'date', 'categorical', 'ignore']\n",
        "    \"meta_data\": {\n",
        "      \"avg_est_unit_cost_error\": \"output\",\n",
        "      \"_id.funding_source\": \"categorical\",\n",
        "      \"_id.department_name\": \"categorical\",\n",
        "      \"_id.replacement_body_style\": \"categorical\",\n",
        "      \"_id.replacement_make\": \"categorical\",\n",
        "      \"_id.replacement_model\": \"categorical\",\n",
        "      \"_id.procurement_plan\": \"categorical\"\n",
        "  }\n",
        "}\n",
        "\n",
        "#config_dict = {'sklearn.ensemble.GradientBoostingRegressor':{}}\n",
        "\n",
        "trained_model = ai.run_experiment(experiment_design, verbose = False, max_time_mins = 5, max_eval_time_mins = 0.04, config_dict = None, warm_start = False, export_pipeline = True, scoring = None)"
      ],
      "execution_count": null,
      "outputs": [
        {
          "output_type": "stream",
          "text": [
            "\n",
            "r2 Score: -1.2041278860252143\n",
            "\n",
            "Negative mean square error: -447363105.0795051\n",
            "\n",
            "Negative root mean square error: -21150.959909174457\n",
            "\n",
            "explained_variance: -1.1906717153409012\n",
            "\n",
            "Negative_mean_absolute_error: -10680.754017568976\n",
            "\n",
            "Negative_median_absolute_error: -3986.6064868209114\n",
            "\n"
          ],
          "name": "stdout"
        }
      ]
    },
    {
      "cell_type": "markdown",
      "metadata": {
        "id": "s3iYOsuXgfoF"
      },
      "source": [
        "**Parameter Verbose = True**"
      ]
    },
    {
      "cell_type": "code",
      "metadata": {
        "id": "NDUBGmseZ0qC",
        "colab": {
          "base_uri": "https://localhost:8080/",
          "height": 525,
          "referenced_widgets": [
            "7ab382e6aeb148c0ac3b9716189b4fe0",
            "12d1c340675d4829a4d94c696afabe72",
            "1e66baee95764d4488836a849425a60c",
            "1cc5c8b672da431e8a2bb1d63a4928ea",
            "b3f9542969934004bf7e2ceca76ac90f",
            "aab862a1df8c499abc62fee7435fff07",
            "98516f9b7d804086a0cf3ca4c82890f8",
            "d409e549d39c44d691c227800c3f1e3b"
          ]
        },
        "outputId": "3d8c1e68-2a74-44e3-b2e5-1d4de206274b"
      },
      "source": [
        "# TODO: design and run an experiment\n",
        "experiment_design = {\n",
        "    #model options include ['tpot_regression()', 'tpot_classification()','timeseries()']\n",
        "    \"model\": ai.tpot_regression(),\n",
        "    \"labels\": df.avg_est_unit_cost_error,\n",
        "    \"data\": df,\n",
        "    #Tell the model which column is 'output'\n",
        "    #Also note columns that aren't purely numerical\n",
        "    #Examples include ['nlp', 'date', 'categorical', 'ignore']\n",
        "    \"meta_data\": {\n",
        "      \"avg_est_unit_cost_error\": \"output\",\n",
        "      \"_id.funding_source\": \"categorical\",\n",
        "      \"_id.department_name\": \"categorical\",\n",
        "      \"_id.replacement_body_style\": \"categorical\",\n",
        "      \"_id.replacement_make\": \"categorical\",\n",
        "      \"_id.replacement_model\": \"categorical\",\n",
        "      \"_id.procurement_plan\": \"categorical\"\n",
        "  }\n",
        "}\n",
        "\n",
        "#config_dict = {'sklearn.ensemble.GradientBoostingRegressor':{}}\n",
        "\n",
        "trained_model = ai.run_experiment(experiment_design, verbose = True, max_time_mins = 5, max_eval_time_mins = 0.04, config_dict = None, warm_start = False, export_pipeline = True, scoring = None)"
      ],
      "execution_count": null,
      "outputs": [
        {
          "output_type": "display_data",
          "data": {
            "application/vnd.jupyter.widget-view+json": {
              "model_id": "7ab382e6aeb148c0ac3b9716189b4fe0",
              "version_minor": 0,
              "version_major": 2
            },
            "text/plain": [
              "HBox(children=(FloatProgress(value=0.0, description='Optimization Progress', style=ProgressStyle(description_w…"
            ]
          },
          "metadata": {
            "tags": []
          }
        },
        {
          "output_type": "stream",
          "text": [
            "\r\n",
            "Generation 1 - Current best internal CV score: -1008610727.3658552\n",
            "\n",
            "Generation 2 - Current best internal CV score: -997656513.3636204\n",
            "\n",
            "Generation 3 - Current best internal CV score: -994217578.9332184\n",
            "\n",
            "5.00 minutes have elapsed. TPOT will close down.\n",
            "TPOT closed during evaluation in one generation.\n",
            "WARNING: TPOT may not provide a good pipeline if TPOT is stopped/interrupted in a early generation.\n",
            "\n",
            "\n",
            "TPOT closed prematurely. Will use the current best pipeline.\n",
            "\n",
            "Best pipeline: AdaBoostRegressor(SelectFwe(input_matrix, alpha=0.026000000000000002), learning_rate=1.0, loss=linear, n_estimators=100)\n",
            "\n",
            "r2 Score: -1.324180239913305\n",
            "\n",
            "Negative mean square error: -471729655.7447352\n",
            "\n",
            "Negative root mean square error: -21719.3382897531\n",
            "\n",
            "explained_variance: -1.3212160143461031\n",
            "\n",
            "Negative_mean_absolute_error: -10736.584364654045\n",
            "\n",
            "Negative_median_absolute_error: -4158.136265345765\n",
            "\n"
          ],
          "name": "stdout"
        }
      ]
    }
  ]
}